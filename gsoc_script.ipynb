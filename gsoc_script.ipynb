{
 "metadata": {
  "language_info": {
   "codemirror_mode": {
    "name": "ipython",
    "version": 3
   },
   "file_extension": ".py",
   "mimetype": "text/x-python",
   "name": "python",
   "nbconvert_exporter": "python",
   "pygments_lexer": "ipython3",
   "version": "3.9.2"
  },
  "orig_nbformat": 2,
  "kernelspec": {
   "name": "python392jvsc74a57bd094177165c184f5bb1e1d0e8b23965c088da0bf354be75cbadf3a9f76ef2ba52e",
   "display_name": "Python 3.9.2 64-bit"
  },
  "metadata": {
   "interpreter": {
    "hash": "94177165c184f5bb1e1d0e8b23965c088da0bf354be75cbadf3a9f76ef2ba52e"
   }
  }
 },
 "nbformat": 4,
 "nbformat_minor": 2,
 "cells": [
  {
   "cell_type": "code",
   "execution_count": null,
   "metadata": {},
   "outputs": [],
   "source": [
    "from bs4 import BeautifulSoup\n",
    "import requests\n",
    "from lxml import html\n",
    "import codecs\n",
    "import pandas as pd"
   ]
  },
  {
   "cell_type": "code",
   "execution_count": null,
   "metadata": {},
   "outputs": [],
   "source": [
    "#page=requests.get('https://summerofcode.withgoogle.com/projects/?sp-page=65#!')\n",
    "#soup=BeautifulSoup(page,'lxml')\n",
    "#print(soup)"
   ]
  },
  {
   "cell_type": "code",
   "execution_count": null,
   "metadata": {},
   "outputs": [],
   "source": [
    "\n",
    "with codecs.open('sample.html', 'r', encoding='utf-8', errors='ignore') as fdata:\n",
    "    soup=BeautifulSoup(fdata,'lxml')\n"
   ]
  },
  {
   "cell_type": "code",
   "execution_count": null,
   "metadata": {},
   "outputs": [],
   "source": [
    "body=soup.find('body')        #taking out body out of whole code\n",
    "#x=body.find('li',class_='project-card')          \n",
    "#y=x.find('div',class_='project-card__right-header-content')"
   ]
  },
  {
   "cell_type": "code",
   "execution_count": null,
   "metadata": {},
   "outputs": [],
   "source": [
    "len=0\n",
    "name_list=[]\n",
    "project_list=[]\n",
    "organisation_list=[]\n",
    "\n",
    "for blocks in body.find_all('li',class_='project-card'):\n",
    "    y=blocks.find('div',class_='project-card__right-header-content')\n",
    "\n",
    "    names=y.h2.text\n",
    "    name_list.append(names)\n",
    "\n",
    "    z=y.find_all('a',class_='md-soc-theme')\n",
    "    \n",
    "    project_list.append(z[0].text)\n",
    "    organisation_list.append(z[1].text)\n",
    "    \n",
    "    len+=1\n",
    "print(len)"
   ]
  },
  {
   "cell_type": "code",
   "execution_count": null,
   "metadata": {},
   "outputs": [],
   "source": [
    "print(name_list)"
   ]
  },
  {
   "cell_type": "code",
   "execution_count": null,
   "metadata": {},
   "outputs": [],
   "source": [
    "print(project_list)"
   ]
  },
  {
   "cell_type": "code",
   "execution_count": null,
   "metadata": {},
   "outputs": [],
   "source": [
    "print(organisation_list)"
   ]
  },
  {
   "cell_type": "code",
   "execution_count": null,
   "metadata": {},
   "outputs": [],
   "source": [
    " data = {'Names': name_list, 'Projects': project_list, 'Organisation': organisation_list}  \n",
    "       \n",
    "df = pd.DataFrame(data) \n",
    "    \n",
    "# saving the dataframe \n",
    "df.to_csv('gsoc.csv') "
   ]
  },
  {
   "cell_type": "code",
   "execution_count": null,
   "metadata": {},
   "outputs": [],
   "source": []
  }
 ]
}